{
 "cells": [
  {
   "cell_type": "code",
   "execution_count": 5,
   "metadata": {},
   "outputs": [
    {
     "data": {
      "text/html": [
       "<div>\n",
       "<style>\n",
       "    .dataframe thead tr:only-child th {\n",
       "        text-align: right;\n",
       "    }\n",
       "\n",
       "    .dataframe thead th {\n",
       "        text-align: left;\n",
       "    }\n",
       "\n",
       "    .dataframe tbody tr th {\n",
       "        vertical-align: top;\n",
       "    }\n",
       "</style>\n",
       "<table border=\"1\" class=\"dataframe\">\n",
       "  <thead>\n",
       "    <tr style=\"text-align: right;\">\n",
       "      <th></th>\n",
       "      <th>prvdr_num</th>\n",
       "      <th>FFY2012_DSH</th>\n",
       "      <th>FFY2015_DSH</th>\n",
       "      <th>hospital_name</th>\n",
       "      <th>city</th>\n",
       "      <th>state</th>\n",
       "      <th>zip_code</th>\n",
       "      <th>3YR_2008_2011_AMI_Readmit_Rate</th>\n",
       "      <th>3YR_2012_2015_AMI_Readmit_Rate</th>\n",
       "      <th>AMI_Change</th>\n",
       "      <th>3YR_2008_2011_HF_Readmit_Rate</th>\n",
       "      <th>3YR_2012_2015_HF_Readmit_Rate</th>\n",
       "      <th>HF_Change</th>\n",
       "      <th>3YR_2008_2011_PN_Readmit_Rate</th>\n",
       "      <th>3YR_2012_2015_PN_Readmit_Rate</th>\n",
       "      <th>PN_Change</th>\n",
       "    </tr>\n",
       "  </thead>\n",
       "  <tbody>\n",
       "    <tr>\n",
       "      <th>0</th>\n",
       "      <td>140286</td>\n",
       "      <td>0.0251</td>\n",
       "      <td>0.0401</td>\n",
       "      <td>KISHWAUKEE COMMUNITY HOSPITAL</td>\n",
       "      <td>DEKALB</td>\n",
       "      <td>IL</td>\n",
       "      <td>60115</td>\n",
       "      <td>0.132353</td>\n",
       "      <td>0.139241</td>\n",
       "      <td>0.006888</td>\n",
       "      <td>0.247863</td>\n",
       "      <td>0.229236</td>\n",
       "      <td>-0.018627</td>\n",
       "      <td>0.148649</td>\n",
       "      <td>0.160612</td>\n",
       "      <td>0.011963</td>\n",
       "    </tr>\n",
       "    <tr>\n",
       "      <th>1</th>\n",
       "      <td>230269</td>\n",
       "      <td>0.0256</td>\n",
       "      <td>0.0448</td>\n",
       "      <td>WILLIAM BEAUMONT HOSPITAL-TROY</td>\n",
       "      <td>TROY</td>\n",
       "      <td>MI</td>\n",
       "      <td>48085</td>\n",
       "      <td>0.224490</td>\n",
       "      <td>0.215630</td>\n",
       "      <td>-0.008860</td>\n",
       "      <td>0.300842</td>\n",
       "      <td>0.233355</td>\n",
       "      <td>-0.067487</td>\n",
       "      <td>0.247297</td>\n",
       "      <td>0.197456</td>\n",
       "      <td>-0.049841</td>\n",
       "    </tr>\n",
       "    <tr>\n",
       "      <th>2</th>\n",
       "      <td>100224</td>\n",
       "      <td>0.0262</td>\n",
       "      <td>0.0316</td>\n",
       "      <td>UNIVERSITY HOSPITAL AND MEDICAL CENTER</td>\n",
       "      <td>TAMARAC</td>\n",
       "      <td>FL</td>\n",
       "      <td>33321</td>\n",
       "      <td>0.279070</td>\n",
       "      <td>0.188406</td>\n",
       "      <td>-0.090664</td>\n",
       "      <td>0.221910</td>\n",
       "      <td>0.271777</td>\n",
       "      <td>0.049867</td>\n",
       "      <td>0.173913</td>\n",
       "      <td>0.132404</td>\n",
       "      <td>-0.041509</td>\n",
       "    </tr>\n",
       "    <tr>\n",
       "      <th>3</th>\n",
       "      <td>390026</td>\n",
       "      <td>0.0264</td>\n",
       "      <td>0.0578</td>\n",
       "      <td>CHESTNUT HILL HOSPITAL</td>\n",
       "      <td>PHILADELPHIA</td>\n",
       "      <td>PA</td>\n",
       "      <td>19118</td>\n",
       "      <td>0.283582</td>\n",
       "      <td>0.166667</td>\n",
       "      <td>-0.116915</td>\n",
       "      <td>0.307278</td>\n",
       "      <td>0.250000</td>\n",
       "      <td>-0.057278</td>\n",
       "      <td>0.208333</td>\n",
       "      <td>0.196217</td>\n",
       "      <td>-0.012116</td>\n",
       "    </tr>\n",
       "    <tr>\n",
       "      <th>4</th>\n",
       "      <td>390036</td>\n",
       "      <td>0.0274</td>\n",
       "      <td>0.0458</td>\n",
       "      <td>HERITAGE VALLEY BEAVER</td>\n",
       "      <td>BEAVER</td>\n",
       "      <td>PA</td>\n",
       "      <td>15009</td>\n",
       "      <td>0.228723</td>\n",
       "      <td>0.174157</td>\n",
       "      <td>-0.054566</td>\n",
       "      <td>0.252912</td>\n",
       "      <td>0.213508</td>\n",
       "      <td>-0.039404</td>\n",
       "      <td>0.169312</td>\n",
       "      <td>0.156250</td>\n",
       "      <td>-0.013062</td>\n",
       "    </tr>\n",
       "  </tbody>\n",
       "</table>\n",
       "</div>"
      ],
      "text/plain": [
       "   prvdr_num  FFY2012_DSH  FFY2015_DSH  \\\n",
       "0     140286       0.0251       0.0401   \n",
       "1     230269       0.0256       0.0448   \n",
       "2     100224       0.0262       0.0316   \n",
       "3     390026       0.0264       0.0578   \n",
       "4     390036       0.0274       0.0458   \n",
       "\n",
       "                            hospital_name          city state  zip_code  \\\n",
       "0           KISHWAUKEE COMMUNITY HOSPITAL        DEKALB    IL     60115   \n",
       "1          WILLIAM BEAUMONT HOSPITAL-TROY          TROY    MI     48085   \n",
       "2  UNIVERSITY HOSPITAL AND MEDICAL CENTER       TAMARAC    FL     33321   \n",
       "3                  CHESTNUT HILL HOSPITAL  PHILADELPHIA    PA     19118   \n",
       "4                  HERITAGE VALLEY BEAVER        BEAVER    PA     15009   \n",
       "\n",
       "   3YR_2008_2011_AMI_Readmit_Rate  3YR_2012_2015_AMI_Readmit_Rate  AMI_Change  \\\n",
       "0                        0.132353                        0.139241    0.006888   \n",
       "1                        0.224490                        0.215630   -0.008860   \n",
       "2                        0.279070                        0.188406   -0.090664   \n",
       "3                        0.283582                        0.166667   -0.116915   \n",
       "4                        0.228723                        0.174157   -0.054566   \n",
       "\n",
       "   3YR_2008_2011_HF_Readmit_Rate  3YR_2012_2015_HF_Readmit_Rate  HF_Change  \\\n",
       "0                       0.247863                       0.229236  -0.018627   \n",
       "1                       0.300842                       0.233355  -0.067487   \n",
       "2                       0.221910                       0.271777   0.049867   \n",
       "3                       0.307278                       0.250000  -0.057278   \n",
       "4                       0.252912                       0.213508  -0.039404   \n",
       "\n",
       "   3YR_2008_2011_PN_Readmit_Rate  3YR_2012_2015_PN_Readmit_Rate  PN_Change  \n",
       "0                       0.148649                       0.160612   0.011963  \n",
       "1                       0.247297                       0.197456  -0.049841  \n",
       "2                       0.173913                       0.132404  -0.041509  \n",
       "3                       0.208333                       0.196217  -0.012116  \n",
       "4                       0.169312                       0.156250  -0.013062  "
      ]
     },
     "execution_count": 5,
     "metadata": {},
     "output_type": "execute_result"
    }
   ],
   "source": [
    "import numpy as np\n",
    "import pandas as pd\n",
    "\n",
    "data = pd.read_csv('/readmission_ISP/rawdata.csv')  #might need to change this here\n",
    "data.head()"
   ]
  },
  {
   "cell_type": "code",
   "execution_count": 7,
   "metadata": {},
   "outputs": [
    {
     "data": {
      "text/plain": [
       "0.25    0.09315\n",
       "0.50    0.13910\n",
       "0.75    0.21145\n",
       "1.00    0.77740\n",
       "Name: FFY2015_DSH, dtype: float64"
      ]
     },
     "execution_count": 7,
     "metadata": {},
     "output_type": "execute_result"
    }
   ],
   "source": [
    "data.FFY2015_DSH.quantile([0.25, 0.5, 0.75, 1])  #define quantiles"
   ]
  },
  {
   "cell_type": "code",
   "execution_count": 8,
   "metadata": {
    "collapsed": true
   },
   "outputs": [],
   "source": [
    "#group rows according to quantile\n",
    "\n",
    "data.loc[data.FFY2015_DSH <= data.FFY2015_DSH.quantile(0.25), 'quantile'] = '1'\n",
    "\n",
    "data.loc[(data.FFY2015_DSH > data.FFY2015_DSH.quantile(0.25)) & \n",
    "         (data.FFY2015_DSH <= data.FFY2015_DSH.quantile(0.5)), 'quantile'] = '2'\n",
    "\n",
    "data.loc[(data.FFY2015_DSH > data.FFY2015_DSH.quantile(0.5)) & \n",
    "         (data.FFY2015_DSH <= data.FFY2015_DSH.quantile(0.75)), 'quantile'] = '3'\n",
    "\n",
    "data.loc[(data.FFY2015_DSH > data.FFY2015_DSH.quantile(0.75)) & \n",
    "         (data.FFY2015_DSH <= data.FFY2015_DSH.quantile(1)), 'quantile'] = '4'\n"
   ]
  },
  {
   "cell_type": "code",
   "execution_count": 9,
   "metadata": {},
   "outputs": [
    {
     "data": {
      "text/html": [
       "<div>\n",
       "<style>\n",
       "    .dataframe thead tr:only-child th {\n",
       "        text-align: right;\n",
       "    }\n",
       "\n",
       "    .dataframe thead th {\n",
       "        text-align: left;\n",
       "    }\n",
       "\n",
       "    .dataframe tbody tr th {\n",
       "        vertical-align: top;\n",
       "    }\n",
       "</style>\n",
       "<table border=\"1\" class=\"dataframe\">\n",
       "  <thead>\n",
       "    <tr>\n",
       "      <th></th>\n",
       "      <th colspan=\"2\" halign=\"left\">FFY2015_DSH</th>\n",
       "      <th colspan=\"2\" halign=\"left\">AMI_Change</th>\n",
       "      <th colspan=\"2\" halign=\"left\">HF_Change</th>\n",
       "      <th colspan=\"2\" halign=\"left\">PN_Change</th>\n",
       "    </tr>\n",
       "    <tr>\n",
       "      <th></th>\n",
       "      <th>mean</th>\n",
       "      <th>std</th>\n",
       "      <th>mean</th>\n",
       "      <th>std</th>\n",
       "      <th>mean</th>\n",
       "      <th>std</th>\n",
       "      <th>mean</th>\n",
       "      <th>std</th>\n",
       "    </tr>\n",
       "    <tr>\n",
       "      <th>quantile</th>\n",
       "      <th></th>\n",
       "      <th></th>\n",
       "      <th></th>\n",
       "      <th></th>\n",
       "      <th></th>\n",
       "      <th></th>\n",
       "      <th></th>\n",
       "      <th></th>\n",
       "    </tr>\n",
       "  </thead>\n",
       "  <tbody>\n",
       "    <tr>\n",
       "      <th>1</th>\n",
       "      <td>0.065007</td>\n",
       "      <td>0.018345</td>\n",
       "      <td>-0.031665</td>\n",
       "      <td>0.052974</td>\n",
       "      <td>-0.030251</td>\n",
       "      <td>0.034755</td>\n",
       "      <td>-0.016696</td>\n",
       "      <td>0.029464</td>\n",
       "    </tr>\n",
       "    <tr>\n",
       "      <th>2</th>\n",
       "      <td>0.117731</td>\n",
       "      <td>0.012121</td>\n",
       "      <td>-0.022615</td>\n",
       "      <td>0.057831</td>\n",
       "      <td>-0.023568</td>\n",
       "      <td>0.036178</td>\n",
       "      <td>-0.017734</td>\n",
       "      <td>0.031720</td>\n",
       "    </tr>\n",
       "    <tr>\n",
       "      <th>3</th>\n",
       "      <td>0.170089</td>\n",
       "      <td>0.020352</td>\n",
       "      <td>-0.029812</td>\n",
       "      <td>0.050130</td>\n",
       "      <td>-0.029523</td>\n",
       "      <td>0.035599</td>\n",
       "      <td>-0.019987</td>\n",
       "      <td>0.030516</td>\n",
       "    </tr>\n",
       "    <tr>\n",
       "      <th>4</th>\n",
       "      <td>0.327880</td>\n",
       "      <td>0.101642</td>\n",
       "      <td>-0.028014</td>\n",
       "      <td>0.059090</td>\n",
       "      <td>-0.031032</td>\n",
       "      <td>0.041856</td>\n",
       "      <td>-0.013031</td>\n",
       "      <td>0.039056</td>\n",
       "    </tr>\n",
       "  </tbody>\n",
       "</table>\n",
       "</div>"
      ],
      "text/plain": [
       "         FFY2015_DSH           AMI_Change           HF_Change            \\\n",
       "                mean       std       mean       std      mean       std   \n",
       "quantile                                                                  \n",
       "1           0.065007  0.018345  -0.031665  0.052974 -0.030251  0.034755   \n",
       "2           0.117731  0.012121  -0.022615  0.057831 -0.023568  0.036178   \n",
       "3           0.170089  0.020352  -0.029812  0.050130 -0.029523  0.035599   \n",
       "4           0.327880  0.101642  -0.028014  0.059090 -0.031032  0.041856   \n",
       "\n",
       "         PN_Change            \n",
       "              mean       std  \n",
       "quantile                      \n",
       "1        -0.016696  0.029464  \n",
       "2        -0.017734  0.031720  \n",
       "3        -0.019987  0.030516  \n",
       "4        -0.013031  0.039056  "
      ]
     },
     "execution_count": 9,
     "metadata": {},
     "output_type": "execute_result"
    }
   ],
   "source": [
    "#display summary statistics\n",
    "data.groupby('quantile').agg({'FFY2015_DSH':['mean','std'],'AMI_Change': ['mean','std'], 'HF_Change': ['mean','std'], 'PN_Change': ['mean','std']})"
   ]
  },
  {
   "cell_type": "code",
   "execution_count": 11,
   "metadata": {},
   "outputs": [
    {
     "name": "stdout",
     "output_type": "stream",
     "text": [
      "One-way ANOVA\n",
      "=============\n",
      "F value: 812.009083809\n",
      "P value: 7.11747270277e-228 \n",
      "\n"
     ]
    }
   ],
   "source": [
    "#perform one-way anova to see if differences by 2015 DSH ratio quantile are signficant\n",
    "\n",
    "import scipy.stats as stats\n",
    "\n",
    "q1 = data.loc[data['quantile']=='1','FFY2015_DSH']\n",
    "q2 = data.loc[data['quantile']=='2','FFY2015_DSH']\n",
    "q3 = data.loc[data['quantile']=='3','FFY2015_DSH']\n",
    "q4 = data.loc[data['quantile']=='4','FFY2015_DSH']\n",
    "\n",
    "\n",
    "f, p = stats.f_oneway(q1,q2,q3,q4)\n",
    "print ('One-way ANOVA')\n",
    "print ('=============')\n",
    " \n",
    "print ('F value:', f)\n",
    "print ('P value:', p, '\\n')"
   ]
  },
  {
   "cell_type": "code",
   "execution_count": 12,
   "metadata": {},
   "outputs": [
    {
     "name": "stdout",
     "output_type": "stream",
     "text": [
      "Multiple Comparison of Means - Tukey HSD,FWER=0.05\n",
      "===========================================\n",
      "group1 group2 meandiff lower  upper  reject\n",
      "-------------------------------------------\n",
      "  1      2     0.0527  0.0382 0.0672  True \n",
      "  1      3     0.1051  0.0905 0.1196  True \n",
      "  1      4     0.2629  0.2484 0.2774  True \n",
      "  2      3     0.0524  0.0378 0.0669  True \n",
      "  2      4     0.2101  0.1956 0.2247  True \n",
      "  3      4     0.1578  0.1433 0.1723  True \n",
      "-------------------------------------------\n"
     ]
    }
   ],
   "source": [
    "#perform tukey's test to see pairwise group differences\n",
    "\n",
    "from statsmodels.stats.multicomp import pairwise_tukeyhsd\n",
    "print(pairwise_tukeyhsd(data['FFY2015_DSH'], data['quantile']))\n"
   ]
  },
  {
   "cell_type": "markdown",
   "metadata": {},
   "source": [
    "Tukey's test shows no differences for all 3 types of readmission rates.\n",
    "\n",
    "Could this mean patient socioeconomic status is not a significant factor in readmission rates?"
   ]
  },
  {
   "cell_type": "code",
   "execution_count": 13,
   "metadata": {},
   "outputs": [
    {
     "name": "stdout",
     "output_type": "stream",
     "text": [
      "Multiple Comparison of Means - Tukey HSD,FWER=0.05\n",
      "============================================\n",
      "group1 group2 meandiff  lower  upper  reject\n",
      "--------------------------------------------\n",
      "  1      2     0.009    -0.006 0.0241 False \n",
      "  1      3     0.0019  -0.0133 0.017  False \n",
      "  1      4     0.0037  -0.0114 0.0187 False \n",
      "  2      3    -0.0072  -0.0223 0.0079 False \n",
      "  2      4    -0.0054  -0.0205 0.0097 False \n",
      "  3      4     0.0018  -0.0133 0.0169 False \n",
      "--------------------------------------------\n"
     ]
    }
   ],
   "source": [
    "print(pairwise_tukeyhsd(data['AMI_Change'], data['quantile']))"
   ]
  },
  {
   "cell_type": "code",
   "execution_count": 14,
   "metadata": {},
   "outputs": [
    {
     "name": "stdout",
     "output_type": "stream",
     "text": [
      "Multiple Comparison of Means - Tukey HSD,FWER=0.05\n",
      "============================================\n",
      "group1 group2 meandiff  lower  upper  reject\n",
      "--------------------------------------------\n",
      "  1      2     0.0067  -0.0035 0.0169 False \n",
      "  1      3     0.0007  -0.0095 0.0109 False \n",
      "  1      4    -0.0008   -0.011 0.0094 False \n",
      "  2      3     -0.006  -0.0162 0.0042 False \n",
      "  2      4    -0.0075  -0.0176 0.0027 False \n",
      "  3      4    -0.0015  -0.0117 0.0087 False \n",
      "--------------------------------------------\n"
     ]
    }
   ],
   "source": [
    "print(pairwise_tukeyhsd(data['HF_Change'], data['quantile']))"
   ]
  },
  {
   "cell_type": "code",
   "execution_count": 15,
   "metadata": {},
   "outputs": [
    {
     "name": "stdout",
     "output_type": "stream",
     "text": [
      "Multiple Comparison of Means - Tukey HSD,FWER=0.05\n",
      "============================================\n",
      "group1 group2 meandiff  lower  upper  reject\n",
      "--------------------------------------------\n",
      "  1      2     -0.001   -0.01  0.008  False \n",
      "  1      3    -0.0033  -0.0123 0.0057 False \n",
      "  1      4     0.0037  -0.0053 0.0127 False \n",
      "  2      3    -0.0023  -0.0113 0.0068 False \n",
      "  2      4     0.0047  -0.0043 0.0137 False \n",
      "  3      4     0.007   -0.0021 0.016  False \n",
      "--------------------------------------------\n"
     ]
    }
   ],
   "source": [
    "print(pairwise_tukeyhsd(data['PN_Change'], data['quantile']))"
   ]
  }
 ],
 "metadata": {
  "kernelspec": {
   "display_name": "Python 3",
   "language": "python",
   "name": "python3"
  },
  "language_info": {
   "codemirror_mode": {
    "name": "ipython",
    "version": 3
   },
   "file_extension": ".py",
   "mimetype": "text/x-python",
   "name": "python",
   "nbconvert_exporter": "python",
   "pygments_lexer": "ipython3",
   "version": "3.6.1"
  }
 },
 "nbformat": 4,
 "nbformat_minor": 2
}
