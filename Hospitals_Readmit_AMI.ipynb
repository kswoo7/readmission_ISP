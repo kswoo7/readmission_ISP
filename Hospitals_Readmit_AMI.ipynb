{
 "cells": [
  {
   "cell_type": "code",
   "execution_count": 1,
   "metadata": {},
   "outputs": [
    {
     "data": {
      "text/html": [
       "<div>\n",
       "<style>\n",
       "    .dataframe thead tr:only-child th {\n",
       "        text-align: right;\n",
       "    }\n",
       "\n",
       "    .dataframe thead th {\n",
       "        text-align: left;\n",
       "    }\n",
       "\n",
       "    .dataframe tbody tr th {\n",
       "        vertical-align: top;\n",
       "    }\n",
       "</style>\n",
       "<table border=\"1\" class=\"dataframe\">\n",
       "  <thead>\n",
       "    <tr style=\"text-align: right;\">\n",
       "      <th></th>\n",
       "      <th>prvdr_num</th>\n",
       "      <th>FFY2012_DSH</th>\n",
       "      <th>FFY2016_DSH</th>\n",
       "      <th>DSH_Change</th>\n",
       "      <th>hospital_name</th>\n",
       "      <th>city</th>\n",
       "      <th>state</th>\n",
       "      <th>zip_code</th>\n",
       "      <th>3YR_2008_2011_AMI_Readmit_Rate</th>\n",
       "      <th>3YR_2012_2015_AMI_Readmit_Rate</th>\n",
       "      <th>AMI_Change</th>\n",
       "    </tr>\n",
       "  </thead>\n",
       "  <tbody>\n",
       "    <tr>\n",
       "      <th>0</th>\n",
       "      <td>140286</td>\n",
       "      <td>0.0251</td>\n",
       "      <td>0.0428</td>\n",
       "      <td>0.0177</td>\n",
       "      <td>KISHWAUKEE COMMUNITY HOSPITAL</td>\n",
       "      <td>DEKALB</td>\n",
       "      <td>IL</td>\n",
       "      <td>60115</td>\n",
       "      <td>0.132353</td>\n",
       "      <td>0.139241</td>\n",
       "      <td>0.006888</td>\n",
       "    </tr>\n",
       "    <tr>\n",
       "      <th>1</th>\n",
       "      <td>140015</td>\n",
       "      <td>0.0253</td>\n",
       "      <td>0.0757</td>\n",
       "      <td>0.0504</td>\n",
       "      <td>BLESSING HOSPITAL</td>\n",
       "      <td>QUINCY</td>\n",
       "      <td>IL</td>\n",
       "      <td>62301</td>\n",
       "      <td>0.190123</td>\n",
       "      <td>0.143662</td>\n",
       "      <td>-0.046461</td>\n",
       "    </tr>\n",
       "    <tr>\n",
       "      <th>2</th>\n",
       "      <td>230269</td>\n",
       "      <td>0.0256</td>\n",
       "      <td>0.0463</td>\n",
       "      <td>0.0207</td>\n",
       "      <td>WILLIAM BEAUMONT HOSPITAL-TROY</td>\n",
       "      <td>TROY</td>\n",
       "      <td>MI</td>\n",
       "      <td>48085</td>\n",
       "      <td>0.224490</td>\n",
       "      <td>0.215630</td>\n",
       "      <td>-0.008860</td>\n",
       "    </tr>\n",
       "    <tr>\n",
       "      <th>3</th>\n",
       "      <td>280125</td>\n",
       "      <td>0.0266</td>\n",
       "      <td>0.0284</td>\n",
       "      <td>0.0018</td>\n",
       "      <td>FAITH REGIONAL HEALTH SERVICES</td>\n",
       "      <td>NORFOLK</td>\n",
       "      <td>NE</td>\n",
       "      <td>68701</td>\n",
       "      <td>0.101942</td>\n",
       "      <td>0.112299</td>\n",
       "      <td>0.010358</td>\n",
       "    </tr>\n",
       "    <tr>\n",
       "      <th>4</th>\n",
       "      <td>240010</td>\n",
       "      <td>0.0276</td>\n",
       "      <td>0.0250</td>\n",
       "      <td>-0.0026</td>\n",
       "      <td>ST MARYS HOSPITAL</td>\n",
       "      <td>ROCHESTER</td>\n",
       "      <td>MN</td>\n",
       "      <td>55902</td>\n",
       "      <td>0.151620</td>\n",
       "      <td>0.127771</td>\n",
       "      <td>-0.023850</td>\n",
       "    </tr>\n",
       "  </tbody>\n",
       "</table>\n",
       "</div>"
      ],
      "text/plain": [
       "   prvdr_num  FFY2012_DSH  FFY2016_DSH  DSH_Change  \\\n",
       "0     140286       0.0251       0.0428      0.0177   \n",
       "1     140015       0.0253       0.0757      0.0504   \n",
       "2     230269       0.0256       0.0463      0.0207   \n",
       "3     280125       0.0266       0.0284      0.0018   \n",
       "4     240010       0.0276       0.0250     -0.0026   \n",
       "\n",
       "                    hospital_name       city state  zip_code  \\\n",
       "0   KISHWAUKEE COMMUNITY HOSPITAL     DEKALB    IL     60115   \n",
       "1               BLESSING HOSPITAL     QUINCY    IL     62301   \n",
       "2  WILLIAM BEAUMONT HOSPITAL-TROY       TROY    MI     48085   \n",
       "3  FAITH REGIONAL HEALTH SERVICES    NORFOLK    NE     68701   \n",
       "4               ST MARYS HOSPITAL  ROCHESTER    MN     55902   \n",
       "\n",
       "   3YR_2008_2011_AMI_Readmit_Rate  3YR_2012_2015_AMI_Readmit_Rate  AMI_Change  \n",
       "0                        0.132353                        0.139241    0.006888  \n",
       "1                        0.190123                        0.143662   -0.046461  \n",
       "2                        0.224490                        0.215630   -0.008860  \n",
       "3                        0.101942                        0.112299    0.010358  \n",
       "4                        0.151620                        0.127771   -0.023850  "
      ]
     },
     "execution_count": 1,
     "metadata": {},
     "output_type": "execute_result"
    }
   ],
   "source": [
    "import numpy as np\n",
    "import pandas as pd\n",
    "import scipy.stats as stats\n",
    "\n",
    "data = pd.read_csv('c:/gitrepos/readmission_ISP/AMI_change.csv')  #might need to change this here\n",
    "data.head()"
   ]
  },
  {
   "cell_type": "code",
   "execution_count": 6,
   "metadata": {
    "collapsed": true
   },
   "outputs": [],
   "source": [
    "data.loc[data['DSH_Change'] > 0, 'Increased_DSH_Change'] = '1'\n",
    "data.loc[data['DSH_Change'] < 0, 'Increased_DSH_Change'] = '0'"
   ]
  },
  {
   "cell_type": "code",
   "execution_count": 2,
   "metadata": {},
   "outputs": [],
   "source": [
    "Incr_DSHChange = data.loc[data['DSH_Change'] > 0] #DSH ratio increased from 2012 to 2016\n",
    "Decr_DSHChange = data.loc[data['DSH_Change'] < 0] #DSH ratio decreased from 2012 to 2016"
   ]
  },
  {
   "cell_type": "code",
   "execution_count": 13,
   "metadata": {},
   "outputs": [
    {
     "data": {
      "text/html": [
       "<div>\n",
       "<style>\n",
       "    .dataframe thead tr:only-child th {\n",
       "        text-align: right;\n",
       "    }\n",
       "\n",
       "    .dataframe thead th {\n",
       "        text-align: left;\n",
       "    }\n",
       "\n",
       "    .dataframe tbody tr th {\n",
       "        vertical-align: top;\n",
       "    }\n",
       "</style>\n",
       "<table border=\"1\" class=\"dataframe\">\n",
       "  <thead>\n",
       "    <tr>\n",
       "      <th></th>\n",
       "      <th colspan=\"5\" halign=\"left\">DSH_Change</th>\n",
       "      <th colspan=\"4\" halign=\"left\">AMI_Change</th>\n",
       "    </tr>\n",
       "    <tr>\n",
       "      <th></th>\n",
       "      <th>count</th>\n",
       "      <th>mean</th>\n",
       "      <th>std</th>\n",
       "      <th>max</th>\n",
       "      <th>min</th>\n",
       "      <th>mean</th>\n",
       "      <th>std</th>\n",
       "      <th>max</th>\n",
       "      <th>min</th>\n",
       "    </tr>\n",
       "    <tr>\n",
       "      <th>Increased_DSH_Change</th>\n",
       "      <th></th>\n",
       "      <th></th>\n",
       "      <th></th>\n",
       "      <th></th>\n",
       "      <th></th>\n",
       "      <th></th>\n",
       "      <th></th>\n",
       "      <th></th>\n",
       "      <th></th>\n",
       "    </tr>\n",
       "  </thead>\n",
       "  <tbody>\n",
       "    <tr>\n",
       "      <th>0</th>\n",
       "      <td>243</td>\n",
       "      <td>-0.025111</td>\n",
       "      <td>0.026250</td>\n",
       "      <td>-0.0001</td>\n",
       "      <td>-0.1685</td>\n",
       "      <td>-0.018426</td>\n",
       "      <td>0.056238</td>\n",
       "      <td>0.280702</td>\n",
       "      <td>-0.203818</td>\n",
       "    </tr>\n",
       "    <tr>\n",
       "      <th>1</th>\n",
       "      <td>481</td>\n",
       "      <td>0.034136</td>\n",
       "      <td>0.026803</td>\n",
       "      <td>0.1630</td>\n",
       "      <td>0.0001</td>\n",
       "      <td>-0.022305</td>\n",
       "      <td>0.049130</td>\n",
       "      <td>0.226415</td>\n",
       "      <td>-0.196310</td>\n",
       "    </tr>\n",
       "  </tbody>\n",
       "</table>\n",
       "</div>"
      ],
      "text/plain": [
       "                     DSH_Change                                      \\\n",
       "                          count      mean       std     max     min   \n",
       "Increased_DSH_Change                                                  \n",
       "0                           243 -0.025111  0.026250 -0.0001 -0.1685   \n",
       "1                           481  0.034136  0.026803  0.1630  0.0001   \n",
       "\n",
       "                     AMI_Change                                \n",
       "                           mean       std       max       min  \n",
       "Increased_DSH_Change                                           \n",
       "0                     -0.018426  0.056238  0.280702 -0.203818  \n",
       "1                     -0.022305  0.049130  0.226415 -0.196310  "
      ]
     },
     "execution_count": 13,
     "metadata": {},
     "output_type": "execute_result"
    }
   ],
   "source": [
    "#display summary statistics\n",
    "data.groupby('Increased_DSH_Change').agg({'DSH_Change':['count','mean','std','max','min'],'AMI_Change': ['mean','std','max','min']})"
   ]
  },
  {
   "cell_type": "code",
   "execution_count": 11,
   "metadata": {},
   "outputs": [
    {
     "data": {
      "text/plain": [
       "Ttest_indResult(statistic=28.474581911527551, pvalue=2.5381740112032027e-106)"
      ]
     },
     "execution_count": 11,
     "metadata": {},
     "output_type": "execute_result"
    }
   ],
   "source": [
    "#perform 2 sample t-test to compare groups of hospitals with increase vs decrease change in DSH ratio\n",
    "\n",
    "Incr_DSH = data.loc[data['Increased_DSH_Change']=='1','DSH_Change']\n",
    "Decr_DSH = data.loc[data['Increased_DSH_Change']=='0','DSH_Change']\n",
    "\n",
    "stats.ttest_ind(Incr_DSH, Decr_DSH , equal_var=False)"
   ]
  },
  {
   "cell_type": "code",
   "execution_count": 12,
   "metadata": {},
   "outputs": [
    {
     "data": {
      "text/plain": [
       "Ttest_indResult(statistic=-0.91345570239103779, pvalue=0.36151220894072766)"
      ]
     },
     "execution_count": 12,
     "metadata": {},
     "output_type": "execute_result"
    }
   ],
   "source": [
    "#perform 2 sample t-test to compare groups of hospitals with increase vs decrease change in AMI readmission change rate\n",
    "Incr_DSH = data.loc[data['Increased_DSH_Change']=='1','AMI_Change']\n",
    "Decr_DSH = data.loc[data['Increased_DSH_Change']=='0','AMI_Change']\n",
    "\n",
    "stats.ttest_ind(Incr_DSH, Decr_DSH , equal_var=False)\n"
   ]
  }
 ],
 "metadata": {
  "kernelspec": {
   "display_name": "Python 3",
   "language": "python",
   "name": "python3"
  },
  "language_info": {
   "codemirror_mode": {
    "name": "ipython",
    "version": 3
   },
   "file_extension": ".py",
   "mimetype": "text/x-python",
   "name": "python",
   "nbconvert_exporter": "python",
   "pygments_lexer": "ipython3",
   "version": "3.6.1"
  }
 },
 "nbformat": 4,
 "nbformat_minor": 2
}
