{
 "cells": [
  {
   "cell_type": "code",
   "execution_count": 1,
   "metadata": {},
   "outputs": [
    {
     "data": {
      "text/html": [
       "<div>\n",
       "<style>\n",
       "    .dataframe thead tr:only-child th {\n",
       "        text-align: right;\n",
       "    }\n",
       "\n",
       "    .dataframe thead th {\n",
       "        text-align: left;\n",
       "    }\n",
       "\n",
       "    .dataframe tbody tr th {\n",
       "        vertical-align: top;\n",
       "    }\n",
       "</style>\n",
       "<table border=\"1\" class=\"dataframe\">\n",
       "  <thead>\n",
       "    <tr style=\"text-align: right;\">\n",
       "      <th></th>\n",
       "      <th>prvdr_num</th>\n",
       "      <th>FFY2012_DSH</th>\n",
       "      <th>FFY2016_DSH</th>\n",
       "      <th>DSH_Change</th>\n",
       "      <th>hospital_name</th>\n",
       "      <th>city</th>\n",
       "      <th>state</th>\n",
       "      <th>zip_code</th>\n",
       "      <th>3YR_2008_2011_PN_Readmit_Rate</th>\n",
       "      <th>3YR_2012_2015_PN_Readmit_Rate</th>\n",
       "      <th>PN_Change</th>\n",
       "    </tr>\n",
       "  </thead>\n",
       "  <tbody>\n",
       "    <tr>\n",
       "      <th>0</th>\n",
       "      <td>140286</td>\n",
       "      <td>0.0251</td>\n",
       "      <td>0.0428</td>\n",
       "      <td>0.0177</td>\n",
       "      <td>KISHWAUKEE COMMUNITY HOSPITAL</td>\n",
       "      <td>DEKALB</td>\n",
       "      <td>IL</td>\n",
       "      <td>60115</td>\n",
       "      <td>0.148649</td>\n",
       "      <td>0.160612</td>\n",
       "      <td>0.011963</td>\n",
       "    </tr>\n",
       "    <tr>\n",
       "      <th>1</th>\n",
       "      <td>140015</td>\n",
       "      <td>0.0253</td>\n",
       "      <td>0.0757</td>\n",
       "      <td>0.0504</td>\n",
       "      <td>BLESSING HOSPITAL</td>\n",
       "      <td>QUINCY</td>\n",
       "      <td>IL</td>\n",
       "      <td>62301</td>\n",
       "      <td>0.189749</td>\n",
       "      <td>0.153592</td>\n",
       "      <td>-0.036157</td>\n",
       "    </tr>\n",
       "    <tr>\n",
       "      <th>2</th>\n",
       "      <td>230269</td>\n",
       "      <td>0.0256</td>\n",
       "      <td>0.0463</td>\n",
       "      <td>0.0207</td>\n",
       "      <td>WILLIAM BEAUMONT HOSPITAL-TROY</td>\n",
       "      <td>TROY</td>\n",
       "      <td>MI</td>\n",
       "      <td>48085</td>\n",
       "      <td>0.247297</td>\n",
       "      <td>0.197456</td>\n",
       "      <td>-0.049841</td>\n",
       "    </tr>\n",
       "    <tr>\n",
       "      <th>3</th>\n",
       "      <td>280125</td>\n",
       "      <td>0.0266</td>\n",
       "      <td>0.0284</td>\n",
       "      <td>0.0018</td>\n",
       "      <td>FAITH REGIONAL HEALTH SERVICES</td>\n",
       "      <td>NORFOLK</td>\n",
       "      <td>NE</td>\n",
       "      <td>68701</td>\n",
       "      <td>0.152727</td>\n",
       "      <td>0.163636</td>\n",
       "      <td>0.010909</td>\n",
       "    </tr>\n",
       "    <tr>\n",
       "      <th>4</th>\n",
       "      <td>240010</td>\n",
       "      <td>0.0276</td>\n",
       "      <td>0.0250</td>\n",
       "      <td>-0.0026</td>\n",
       "      <td>ST MARYS HOSPITAL</td>\n",
       "      <td>ROCHESTER</td>\n",
       "      <td>MN</td>\n",
       "      <td>55902</td>\n",
       "      <td>0.148489</td>\n",
       "      <td>0.159015</td>\n",
       "      <td>0.010526</td>\n",
       "    </tr>\n",
       "  </tbody>\n",
       "</table>\n",
       "</div>"
      ],
      "text/plain": [
       "   prvdr_num  FFY2012_DSH  FFY2016_DSH  DSH_Change  \\\n",
       "0     140286       0.0251       0.0428      0.0177   \n",
       "1     140015       0.0253       0.0757      0.0504   \n",
       "2     230269       0.0256       0.0463      0.0207   \n",
       "3     280125       0.0266       0.0284      0.0018   \n",
       "4     240010       0.0276       0.0250     -0.0026   \n",
       "\n",
       "                    hospital_name       city state  zip_code  \\\n",
       "0   KISHWAUKEE COMMUNITY HOSPITAL     DEKALB    IL     60115   \n",
       "1               BLESSING HOSPITAL     QUINCY    IL     62301   \n",
       "2  WILLIAM BEAUMONT HOSPITAL-TROY       TROY    MI     48085   \n",
       "3  FAITH REGIONAL HEALTH SERVICES    NORFOLK    NE     68701   \n",
       "4               ST MARYS HOSPITAL  ROCHESTER    MN     55902   \n",
       "\n",
       "   3YR_2008_2011_PN_Readmit_Rate  3YR_2012_2015_PN_Readmit_Rate  PN_Change  \n",
       "0                       0.148649                       0.160612   0.011963  \n",
       "1                       0.189749                       0.153592  -0.036157  \n",
       "2                       0.247297                       0.197456  -0.049841  \n",
       "3                       0.152727                       0.163636   0.010909  \n",
       "4                       0.148489                       0.159015   0.010526  "
      ]
     },
     "execution_count": 1,
     "metadata": {},
     "output_type": "execute_result"
    }
   ],
   "source": [
    "import numpy as np\n",
    "import pandas as pd\n",
    "import scipy.stats as stats\n",
    "\n",
    "data = pd.read_csv('c:/gitrepos/readmission_ISP/PN_change.csv')  #might need to change this here\n",
    "data.head()"
   ]
  },
  {
   "cell_type": "code",
   "execution_count": 2,
   "metadata": {
    "collapsed": true
   },
   "outputs": [],
   "source": [
    "data.loc[data['DSH_Change'] > 0, 'Increased_DSH_Change'] = '1'\n",
    "data.loc[data['DSH_Change'] < 0, 'Increased_DSH_Change'] = '0'"
   ]
  },
  {
   "cell_type": "code",
   "execution_count": 3,
   "metadata": {
    "collapsed": true
   },
   "outputs": [],
   "source": [
    "Incr_DSHChange = data.loc[data['DSH_Change'] > 0] #DSH ratio increased from 2012 to 2016\n",
    "Decr_DSHChange = data.loc[data['DSH_Change'] < 0] #DSH ratio decreased from 2012 to 2016"
   ]
  },
  {
   "cell_type": "code",
   "execution_count": 11,
   "metadata": {},
   "outputs": [
    {
     "data": {
      "text/html": [
       "<div>\n",
       "<style>\n",
       "    .dataframe thead tr:only-child th {\n",
       "        text-align: right;\n",
       "    }\n",
       "\n",
       "    .dataframe thead th {\n",
       "        text-align: left;\n",
       "    }\n",
       "\n",
       "    .dataframe tbody tr th {\n",
       "        vertical-align: top;\n",
       "    }\n",
       "</style>\n",
       "<table border=\"1\" class=\"dataframe\">\n",
       "  <thead>\n",
       "    <tr>\n",
       "      <th></th>\n",
       "      <th colspan=\"5\" halign=\"left\">DSH_Change</th>\n",
       "      <th colspan=\"4\" halign=\"left\">PN_Change</th>\n",
       "    </tr>\n",
       "    <tr>\n",
       "      <th></th>\n",
       "      <th>count</th>\n",
       "      <th>mean</th>\n",
       "      <th>std</th>\n",
       "      <th>max</th>\n",
       "      <th>min</th>\n",
       "      <th>mean</th>\n",
       "      <th>std</th>\n",
       "      <th>max</th>\n",
       "      <th>min</th>\n",
       "    </tr>\n",
       "    <tr>\n",
       "      <th>Increased_DSH_Change</th>\n",
       "      <th></th>\n",
       "      <th></th>\n",
       "      <th></th>\n",
       "      <th></th>\n",
       "      <th></th>\n",
       "      <th></th>\n",
       "      <th></th>\n",
       "      <th></th>\n",
       "      <th></th>\n",
       "    </tr>\n",
       "  </thead>\n",
       "  <tbody>\n",
       "    <tr>\n",
       "      <th>0</th>\n",
       "      <td>391</td>\n",
       "      <td>-0.029614</td>\n",
       "      <td>0.034075</td>\n",
       "      <td>-0.0001</td>\n",
       "      <td>-0.3271</td>\n",
       "      <td>-0.010039</td>\n",
       "      <td>0.039354</td>\n",
       "      <td>0.201613</td>\n",
       "      <td>-0.170958</td>\n",
       "    </tr>\n",
       "    <tr>\n",
       "      <th>1</th>\n",
       "      <td>706</td>\n",
       "      <td>0.036145</td>\n",
       "      <td>0.032320</td>\n",
       "      <td>0.2494</td>\n",
       "      <td>0.0001</td>\n",
       "      <td>-0.013358</td>\n",
       "      <td>0.036113</td>\n",
       "      <td>0.172414</td>\n",
       "      <td>-0.138211</td>\n",
       "    </tr>\n",
       "  </tbody>\n",
       "</table>\n",
       "</div>"
      ],
      "text/plain": [
       "                     DSH_Change                                     PN_Change  \\\n",
       "                          count      mean       std     max     min      mean   \n",
       "Increased_DSH_Change                                                            \n",
       "0                           391 -0.029614  0.034075 -0.0001 -0.3271 -0.010039   \n",
       "1                           706  0.036145  0.032320  0.2494  0.0001 -0.013358   \n",
       "\n",
       "                                                    \n",
       "                           std       max       min  \n",
       "Increased_DSH_Change                                \n",
       "0                     0.039354  0.201613 -0.170958  \n",
       "1                     0.036113  0.172414 -0.138211  "
      ]
     },
     "execution_count": 11,
     "metadata": {},
     "output_type": "execute_result"
    }
   ],
   "source": [
    "#display summary statistics\n",
    "data.groupby('Increased_DSH_Change').agg({'DSH_Change':['count','mean','std','max','min'],'PN_Change': ['mean','std','max','min']})"
   ]
  },
  {
   "cell_type": "code",
   "execution_count": 9,
   "metadata": {},
   "outputs": [
    {
     "data": {
      "text/plain": [
       "Ttest_indResult(statistic=31.175765047460754, pvalue=1.2666974328268848e-138)"
      ]
     },
     "execution_count": 9,
     "metadata": {},
     "output_type": "execute_result"
    }
   ],
   "source": [
    "#perform 2 sample t-test to compare groups of hospitals with increase vs decrease change in DSH ratio\n",
    "\n",
    "Incr_DSH = data.loc[data['Increased_DSH_Change']=='1','DSH_Change']\n",
    "Decr_DSH = data.loc[data['Increased_DSH_Change']=='0','DSH_Change']\n",
    "\n",
    "stats.ttest_ind(Incr_DSH, Decr_DSH , equal_var=False)"
   ]
  },
  {
   "cell_type": "code",
   "execution_count": 10,
   "metadata": {},
   "outputs": [
    {
     "data": {
      "text/plain": [
       "Ttest_indResult(statistic=-1.3770581163144875, pvalue=0.16890594898644451)"
      ]
     },
     "execution_count": 10,
     "metadata": {},
     "output_type": "execute_result"
    }
   ],
   "source": [
    "#perform 2 sample t-test to compare groups of hospitals with increase vs decrease change in HF readmission change rate\n",
    "Incr_DSH = data.loc[data['Increased_DSH_Change']=='1','PN_Change']\n",
    "Decr_DSH = data.loc[data['Increased_DSH_Change']=='0','PN_Change']\n",
    "\n",
    "stats.ttest_ind(Incr_DSH, Decr_DSH , equal_var=False)\n"
   ]
  }
 ],
 "metadata": {
  "kernelspec": {
   "display_name": "Python 3",
   "language": "python",
   "name": "python3"
  },
  "language_info": {
   "codemirror_mode": {
    "name": "ipython",
    "version": 3
   },
   "file_extension": ".py",
   "mimetype": "text/x-python",
   "name": "python",
   "nbconvert_exporter": "python",
   "pygments_lexer": "ipython3",
   "version": "3.6.1"
  }
 },
 "nbformat": 4,
 "nbformat_minor": 2
}
