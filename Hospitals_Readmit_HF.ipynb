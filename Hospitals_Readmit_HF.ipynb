{
 "cells": [
  {
   "cell_type": "code",
   "execution_count": 1,
   "metadata": {},
   "outputs": [
    {
     "data": {
      "text/html": [
       "<div>\n",
       "<style>\n",
       "    .dataframe thead tr:only-child th {\n",
       "        text-align: right;\n",
       "    }\n",
       "\n",
       "    .dataframe thead th {\n",
       "        text-align: left;\n",
       "    }\n",
       "\n",
       "    .dataframe tbody tr th {\n",
       "        vertical-align: top;\n",
       "    }\n",
       "</style>\n",
       "<table border=\"1\" class=\"dataframe\">\n",
       "  <thead>\n",
       "    <tr style=\"text-align: right;\">\n",
       "      <th></th>\n",
       "      <th>prvdr_num</th>\n",
       "      <th>FFY2012_DSH</th>\n",
       "      <th>FFY2016_DSH</th>\n",
       "      <th>DSH_Change</th>\n",
       "      <th>hospital_name</th>\n",
       "      <th>city</th>\n",
       "      <th>state</th>\n",
       "      <th>zip_code</th>\n",
       "      <th>3YR_2008_2011_HF_Readmit_Rate</th>\n",
       "      <th>3YR_2012_2015_HF_Readmit_Rate</th>\n",
       "      <th>HF_Change</th>\n",
       "    </tr>\n",
       "  </thead>\n",
       "  <tbody>\n",
       "    <tr>\n",
       "      <th>0</th>\n",
       "      <td>140286</td>\n",
       "      <td>0.0251</td>\n",
       "      <td>0.0428</td>\n",
       "      <td>0.0177</td>\n",
       "      <td>KISHWAUKEE COMMUNITY HOSPITAL</td>\n",
       "      <td>DEKALB</td>\n",
       "      <td>IL</td>\n",
       "      <td>60115</td>\n",
       "      <td>0.247863</td>\n",
       "      <td>0.229236</td>\n",
       "      <td>-0.018627</td>\n",
       "    </tr>\n",
       "    <tr>\n",
       "      <th>1</th>\n",
       "      <td>140015</td>\n",
       "      <td>0.0253</td>\n",
       "      <td>0.0757</td>\n",
       "      <td>0.0504</td>\n",
       "      <td>BLESSING HOSPITAL</td>\n",
       "      <td>QUINCY</td>\n",
       "      <td>IL</td>\n",
       "      <td>62301</td>\n",
       "      <td>0.223767</td>\n",
       "      <td>0.222222</td>\n",
       "      <td>-0.001545</td>\n",
       "    </tr>\n",
       "    <tr>\n",
       "      <th>2</th>\n",
       "      <td>230269</td>\n",
       "      <td>0.0256</td>\n",
       "      <td>0.0463</td>\n",
       "      <td>0.0207</td>\n",
       "      <td>WILLIAM BEAUMONT HOSPITAL-TROY</td>\n",
       "      <td>TROY</td>\n",
       "      <td>MI</td>\n",
       "      <td>48085</td>\n",
       "      <td>0.300842</td>\n",
       "      <td>0.233355</td>\n",
       "      <td>-0.067487</td>\n",
       "    </tr>\n",
       "    <tr>\n",
       "      <th>3</th>\n",
       "      <td>280125</td>\n",
       "      <td>0.0266</td>\n",
       "      <td>0.0284</td>\n",
       "      <td>0.0018</td>\n",
       "      <td>FAITH REGIONAL HEALTH SERVICES</td>\n",
       "      <td>NORFOLK</td>\n",
       "      <td>NE</td>\n",
       "      <td>68701</td>\n",
       "      <td>0.175732</td>\n",
       "      <td>0.157447</td>\n",
       "      <td>-0.018285</td>\n",
       "    </tr>\n",
       "    <tr>\n",
       "      <th>4</th>\n",
       "      <td>240010</td>\n",
       "      <td>0.0276</td>\n",
       "      <td>0.0250</td>\n",
       "      <td>-0.0026</td>\n",
       "      <td>ST MARYS HOSPITAL</td>\n",
       "      <td>ROCHESTER</td>\n",
       "      <td>MN</td>\n",
       "      <td>55902</td>\n",
       "      <td>0.250901</td>\n",
       "      <td>0.176330</td>\n",
       "      <td>-0.074571</td>\n",
       "    </tr>\n",
       "  </tbody>\n",
       "</table>\n",
       "</div>"
      ],
      "text/plain": [
       "   prvdr_num  FFY2012_DSH  FFY2016_DSH  DSH_Change  \\\n",
       "0     140286       0.0251       0.0428      0.0177   \n",
       "1     140015       0.0253       0.0757      0.0504   \n",
       "2     230269       0.0256       0.0463      0.0207   \n",
       "3     280125       0.0266       0.0284      0.0018   \n",
       "4     240010       0.0276       0.0250     -0.0026   \n",
       "\n",
       "                    hospital_name       city state  zip_code  \\\n",
       "0   KISHWAUKEE COMMUNITY HOSPITAL     DEKALB    IL     60115   \n",
       "1               BLESSING HOSPITAL     QUINCY    IL     62301   \n",
       "2  WILLIAM BEAUMONT HOSPITAL-TROY       TROY    MI     48085   \n",
       "3  FAITH REGIONAL HEALTH SERVICES    NORFOLK    NE     68701   \n",
       "4               ST MARYS HOSPITAL  ROCHESTER    MN     55902   \n",
       "\n",
       "   3YR_2008_2011_HF_Readmit_Rate  3YR_2012_2015_HF_Readmit_Rate  HF_Change  \n",
       "0                       0.247863                       0.229236  -0.018627  \n",
       "1                       0.223767                       0.222222  -0.001545  \n",
       "2                       0.300842                       0.233355  -0.067487  \n",
       "3                       0.175732                       0.157447  -0.018285  \n",
       "4                       0.250901                       0.176330  -0.074571  "
      ]
     },
     "execution_count": 1,
     "metadata": {},
     "output_type": "execute_result"
    }
   ],
   "source": [
    "import numpy as np\n",
    "import pandas as pd\n",
    "import scipy.stats as stats\n",
    "\n",
    "data = pd.read_csv('c:/gitrepos/readmission_ISP/HF_change.csv')  #might need to change this here\n",
    "data.head()"
   ]
  },
  {
   "cell_type": "code",
   "execution_count": 2,
   "metadata": {
    "collapsed": true
   },
   "outputs": [],
   "source": [
    "data.loc[data['DSH_Change'] > 0, 'Increased_DSH_Change'] = '1'\n",
    "data.loc[data['DSH_Change'] < 0, 'Increased_DSH_Change'] = '0'"
   ]
  },
  {
   "cell_type": "code",
   "execution_count": 3,
   "metadata": {
    "collapsed": true
   },
   "outputs": [],
   "source": [
    "Incr_DSHChange = data.loc[data['DSH_Change'] > 0] #DSH ratio increased from 2012 to 2016\n",
    "Decr_DSHChange = data.loc[data['DSH_Change'] < 0] #DSH ratio decreased from 2012 to 2016"
   ]
  },
  {
   "cell_type": "code",
   "execution_count": 12,
   "metadata": {},
   "outputs": [
    {
     "data": {
      "text/html": [
       "<div>\n",
       "<style>\n",
       "    .dataframe thead tr:only-child th {\n",
       "        text-align: right;\n",
       "    }\n",
       "\n",
       "    .dataframe thead th {\n",
       "        text-align: left;\n",
       "    }\n",
       "\n",
       "    .dataframe tbody tr th {\n",
       "        vertical-align: top;\n",
       "    }\n",
       "</style>\n",
       "<table border=\"1\" class=\"dataframe\">\n",
       "  <thead>\n",
       "    <tr>\n",
       "      <th></th>\n",
       "      <th colspan=\"5\" halign=\"left\">DSH_Change</th>\n",
       "      <th colspan=\"4\" halign=\"left\">HF_Change</th>\n",
       "    </tr>\n",
       "    <tr>\n",
       "      <th></th>\n",
       "      <th>count</th>\n",
       "      <th>mean</th>\n",
       "      <th>std</th>\n",
       "      <th>max</th>\n",
       "      <th>min</th>\n",
       "      <th>mean</th>\n",
       "      <th>std</th>\n",
       "      <th>max</th>\n",
       "      <th>min</th>\n",
       "    </tr>\n",
       "    <tr>\n",
       "      <th>Increased_DSH_Change</th>\n",
       "      <th></th>\n",
       "      <th></th>\n",
       "      <th></th>\n",
       "      <th></th>\n",
       "      <th></th>\n",
       "      <th></th>\n",
       "      <th></th>\n",
       "      <th></th>\n",
       "      <th></th>\n",
       "    </tr>\n",
       "  </thead>\n",
       "  <tbody>\n",
       "    <tr>\n",
       "      <th>0</th>\n",
       "      <td>376</td>\n",
       "      <td>-0.029393</td>\n",
       "      <td>0.033998</td>\n",
       "      <td>-0.0001</td>\n",
       "      <td>-0.3271</td>\n",
       "      <td>-0.024810</td>\n",
       "      <td>0.049864</td>\n",
       "      <td>0.227679</td>\n",
       "      <td>-0.250731</td>\n",
       "    </tr>\n",
       "    <tr>\n",
       "      <th>1</th>\n",
       "      <td>695</td>\n",
       "      <td>0.035916</td>\n",
       "      <td>0.031868</td>\n",
       "      <td>0.2494</td>\n",
       "      <td>0.0001</td>\n",
       "      <td>-0.020234</td>\n",
       "      <td>0.045555</td>\n",
       "      <td>0.238636</td>\n",
       "      <td>-0.197826</td>\n",
       "    </tr>\n",
       "  </tbody>\n",
       "</table>\n",
       "</div>"
      ],
      "text/plain": [
       "                     DSH_Change                                     HF_Change  \\\n",
       "                          count      mean       std     max     min      mean   \n",
       "Increased_DSH_Change                                                            \n",
       "0                           376 -0.029393  0.033998 -0.0001 -0.3271 -0.024810   \n",
       "1                           695  0.035916  0.031868  0.2494  0.0001 -0.020234   \n",
       "\n",
       "                                                    \n",
       "                           std       max       min  \n",
       "Increased_DSH_Change                                \n",
       "0                     0.049864  0.227679 -0.250731  \n",
       "1                     0.045555  0.238636 -0.197826  "
      ]
     },
     "execution_count": 12,
     "metadata": {},
     "output_type": "execute_result"
    }
   ],
   "source": [
    "#display summary statistics\n",
    "data.groupby('Increased_DSH_Change').agg({'DSH_Change':['count','mean','std','max','min'],'HF_Change': ['mean','std','max','min']})"
   ]
  },
  {
   "cell_type": "code",
   "execution_count": 8,
   "metadata": {},
   "outputs": [
    {
     "data": {
      "text/plain": [
       "Ttest_indResult(statistic=30.666603724033838, pvalue=3.3276964565847555e-133)"
      ]
     },
     "execution_count": 8,
     "metadata": {},
     "output_type": "execute_result"
    }
   ],
   "source": [
    "#perform 2 sample t-test to compare groups of hospitals with increase vs decrease change in DSH ratio\n",
    "\n",
    "Incr_DSH = data.loc[data['Increased_DSH_Change']=='1','DSH_Change']\n",
    "Decr_DSH = data.loc[data['Increased_DSH_Change']=='0','DSH_Change']\n",
    "\n",
    "stats.ttest_ind(Incr_DSH, Decr_DSH , equal_var=False)"
   ]
  },
  {
   "cell_type": "code",
   "execution_count": 10,
   "metadata": {},
   "outputs": [
    {
     "data": {
      "text/plain": [
       "Ttest_indResult(statistic=1.4767843579211195, pvalue=0.14017577594477215)"
      ]
     },
     "execution_count": 10,
     "metadata": {},
     "output_type": "execute_result"
    }
   ],
   "source": [
    "#perform 2 sample t-test to compare groups of hospitals with increase vs decrease change in HF readmission change rate\n",
    "Incr_DSH = data.loc[data['Increased_DSH_Change']=='1','HF_Change']\n",
    "Decr_DSH = data.loc[data['Increased_DSH_Change']=='0','HF_Change']\n",
    "\n",
    "stats.ttest_ind(Incr_DSH, Decr_DSH , equal_var=False)\n"
   ]
  }
 ],
 "metadata": {
  "kernelspec": {
   "display_name": "Python 3",
   "language": "python",
   "name": "python3"
  },
  "language_info": {
   "codemirror_mode": {
    "name": "ipython",
    "version": 3
   },
   "file_extension": ".py",
   "mimetype": "text/x-python",
   "name": "python",
   "nbconvert_exporter": "python",
   "pygments_lexer": "ipython3",
   "version": "3.6.1"
  }
 },
 "nbformat": 4,
 "nbformat_minor": 2
}
